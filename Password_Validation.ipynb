{
  "nbformat": 4,
  "nbformat_minor": 0,
  "metadata": {
    "colab": {
      "provenance": []
    },
    "kernelspec": {
      "name": "python3",
      "display_name": "Python 3"
    },
    "language_info": {
      "name": "python"
    }
  },
  "cells": [
    {
      "cell_type": "code",
      "source": [],
      "metadata": {
        "id": "0bBGvvQbHbm9"
      },
      "execution_count": null,
      "outputs": []
    },
    {
      "cell_type": "code",
      "execution_count": null,
      "metadata": {
        "colab": {
          "base_uri": "https://localhost:8080/"
        },
        "id": "7gwFMKWWHLb7",
        "outputId": "d4615f01-0e70-4fa5-f9c2-3016ae3210cd"
      },
      "outputs": [
        {
          "output_type": "stream",
          "name": "stdout",
          "text": [
            "Enter your UserName: aman\n",
            "Enter your previous 3 passwords (password1 password2 password3): 234 234 123\n",
            "['234', '234', '123']\n",
            "Enter your password: 98754\n",
            "Your password must contain at least 10 characters\n",
            "You have entered a invalid password\n"
          ]
        }
      ],
      "source": [
        "#Function Definition\n",
        "def n_upper_chars(string):\n",
        "    if sum(map(str.isupper, string))<2:\n",
        "        return True\n",
        "\n",
        "def n_lower_chars(string):\n",
        "    if sum(map(str.islower, string))<2:\n",
        "        return True\n",
        "\n",
        "def check_password_len(password):\n",
        "    if len(password)<10:\n",
        "        return True\n",
        "\n",
        "def check_digits(string):\n",
        "    if sum(map(str.isdigit,string))<2:\n",
        "        return True\n",
        "\n",
        "def check_special_characters(password):\n",
        "    special_characters = \"!@#$%^&*()-_+=<>?/\\\\|{}[]\"\n",
        "    count=0\n",
        "    for char in password:\n",
        "        if char in special_characters:\n",
        "                count+=1\n",
        "    if count<2:\n",
        "            return True\n",
        "\n",
        "def check_repetition(Password):\n",
        "    for i in range(len(Password)-1):\n",
        "        if Password[i]==Password[i+1] and Password[i]==Password[i+2] and Password[i]==Password[i+3]:\n",
        "            return True\n",
        "            break\n",
        "\n",
        "def check_sequence(Password):\n",
        "    for i in range(len(Password)-1):\n",
        "        if Password[i:i+3] in User_Name:\n",
        "            return True\n",
        "\n",
        "Alpha=False\n",
        "User_Name=input(\"Enter your UserName: \")\n",
        "previous_passwords=[]\n",
        "prv_psw1, prv_psw2, prv_psw3 = map(str,input(\"Enter your previous 3 passwords (password1 password2 password3): \").split())\n",
        "previous_passwords.append(prv_psw1)\n",
        "previous_passwords.append(prv_psw2)\n",
        "previous_passwords.append(prv_psw3)\n",
        "print(previous_passwords)\n",
        "\n",
        "# Password Validation\n",
        "\n",
        "def password_validation(Password):\n",
        " if check_password_len(Password):\n",
        "     print(\"Your password must contain at least 10 characters\")\n",
        "     return False\n",
        " elif n_lower_chars(Password):\n",
        "    print(\"Your password must conatain atleast 2 lowercase characters\")\n",
        "    return False\n",
        " elif n_upper_chars(Password):\n",
        "    print(\"Your password must contain atleast 2 uppercase characters\")\n",
        "    return False\n",
        " elif check_digits(Password):\n",
        "     print(\"Your password must contain at least 2 digits\")\n",
        "     return False\n",
        " elif check_special_characters(Password):\n",
        "     print(\"Your password must contain at least 2 special characters\")\n",
        "     return False\n",
        " elif check_repetition(Password):\n",
        "     print(\"Your password must not contain any repetitive characters\")\n",
        "     return False\n",
        " elif Password in previous_passwords:\n",
        "     print(\"Your password must not same to the previous passwords\")\n",
        "     return False\n",
        " elif check_sequence(Password):\n",
        "     print(\"Your password should not contain any sequence of 3 or more consecutive characters from UserName\")\n",
        " else:\n",
        "    return True\n",
        "\n",
        "\n",
        "while Alpha!=True:\n",
        "    Password=((input(\"Enter your password: \")))\n",
        "    Alpha=password_validation(Password)\n",
        "    if Alpha==False:\n",
        "        print(\"You have entered a invalid password\")\n",
        "print(\"congratulation!\")\n",
        "print(\"You have entered a valid Password\")"
      ]
    }
  ]
}